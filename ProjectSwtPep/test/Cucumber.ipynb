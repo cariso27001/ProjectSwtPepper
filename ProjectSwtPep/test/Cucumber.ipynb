{
 "cells": [
  {
   "cell_type": "code",
   "execution_count": null,
   "metadata": {},
   "outputs": [],
   "source": [
    "using Pkg\n",
    "Pkg.activate(\"..\")\n",
    "Pkg.instantiate()\n",
    "Pkg.update()\n",
    "# Pkg.upgrade_manifest()"
   ]
  },
  {
   "cell_type": "code",
   "execution_count": null,
   "metadata": {},
   "outputs": [],
   "source": [
    "using Cropbox\n",
    "using Test\n",
    "# using Plots\n",
    "using TimeZones\n",
    "using DataFramesMeta\n",
    "using CSV\n",
    "# Cropbox.Interact.WebIO.setup(:ijulia)"
   ]
  },
  {
   "cell_type": "code",
   "execution_count": null,
   "metadata": {},
   "outputs": [],
   "source": [
    "obs_farm_k = CSV.read(\"$(@__DIR__)/../data/Obs_FarmK.csv\", DataFrame) |> unitfy"
   ]
  },
  {
   "cell_type": "code",
   "execution_count": null,
   "metadata": {},
   "outputs": [],
   "source": [
    "include(\"../src/Garlic.jl\")\n",
    "\n",
    "import Dates"
   ]
  },
  {
   "cell_type": "code",
   "execution_count": null,
   "metadata": {},
   "outputs": [],
   "source": [
    "# Cropbox.dependency(Garlic.Model)"
   ]
  },
  {
   "cell_type": "code",
   "execution_count": null,
   "metadata": {},
   "outputs": [],
   "source": [
    "tz = tz\"Asia/Seoul\"\n",
    "\n",
    "Cucumber = @config (\n",
    "    :Phenology => (\n",
    "        optimal_temperature = 25, # Topt\n",
    "        ceiling_temperature = 30, # Tceil\n",
    "        critical_photoperiod = 12, # critPPD\n",
    "        # initial_leaves_at_harvest = 5, # ILN\n",
    "        maximum_leaf_initiation_rate = 1.79147, # LIR\n",
    "        maximum_emergence_rate = 0.2,\n",
    "        maximum_phyllochron_asymptote = 1.27984, # LTARa\n",
    "        leaves_generic = 50, # GLN\n",
    "    ),\n",
    "    :Leaf => (\n",
    "        maximum_elongation_rate = 4.70, # LER\n",
    "        minimum_length_of_longest_leaf = 38.0, # LL\n",
    "        stay_green = 8,\n",
    "        length_to_width_ratio = 0.6,\n",
    "    ),\n",
    "    :Carbon => (\n",
    "        maintenance_respiration_coefficient = 0.012, # Rm\n",
    "        synthesis_efficiency = 0.8, # Yg\n",
    "    ),\n",
    "    :Meta => (; cultivar = :Cucumber),\n",
    "    :Plant => (initial_planting_density = 20,),\n",
    ");"
   ]
  },
  {
   "cell_type": "code",
   "execution_count": null,
   "metadata": {},
   "outputs": [],
   "source": [
    "Calibrate = @config(Cucumber, (\n",
    "    :Phenology => (\n",
    "        planting_date = ZonedDateTime(2021, 7, 1, tz\"Asia/Seoul\"), # Y1 sow\n",
    "        emergence_date = ZonedDateTime(2021, 7, 15, tz\"Asia/Seoul\"), # Y1 emg\n",
    "        first_flowering_date = ZonedDateTime(2021, 11, 5, tz\"Asia/Seoul\"),\n",
    "    ),\n",
    "    :Meta => (\n",
    "        planting_group = 2,\n",
    "        year = 2021,\n",
    "    ),\n",
    "    :Calendar => (\n",
    "        init = ZonedDateTime(2021, 7, 1, tz\"Asia/Seoul\"),\n",
    "        last = ZonedDateTime(2022, 6, 30, tz\"Asia/Seoul\"),\n",
    "    ),\n",
    "    :Weather => (\n",
    "        store = Garlic.loadwea(\"$(@__DIR__)/../data/SwtPep-Env.wea\", tz\"Asia/Seoul\"),\n",
    "    ),\n",
    "));"
   ]
  },
  {
   "cell_type": "code",
   "execution_count": null,
   "metadata": {},
   "outputs": [],
   "source": [
    "cali = simulate(Garlic.Model;\n",
    "    config=Calibrate,\n",
    "    stop=\"calendar.count\",\n",
    "    snap=s -> Dates.hour(s.calendar.time') == 12,\n",
    ")\n",
    "# @test r.leaves_initiated[end] > 0\n",
    "\n",
    "plot_veg = visualize(cali, :DAP, [:leaves_real], kind=:line)\n",
    "visualize!(plot_veg, obs_farm_k, :DAP, :leaf_count) |> display # Fig. 3.D\n",
    "plot_rep = visualize(cali, :DAP, [:flowers_appeared, :fruits_appeared], kind=:line)\n",
    "visualize!(plot_rep, obs_farm_k, :DAP, [:flower_count, :fruit_count]) |> display\n",
    "plot_area = visualize(cali, :DAP, :green_leaf_area, kind=:line)\n",
    "visualize!(plot_area, obs_farm_k, :DAP, [:leaf_area]) |> display\n",
    "plot_mass = visualize(cali, :DAP, [:leaf_mass], kind=:line)\n",
    "visualize!(plot_mass, obs_farm_k, :DAP, [:leaf_drymass]) |> display"
   ]
  },
  {
   "cell_type": "code",
   "execution_count": null,
   "metadata": {},
   "outputs": [],
   "source": [
    "f(s) = s.DAP' in obs_farm_k.DAP && Dates.hour(s.calendar.time') == 12\n",
    "\n",
    "calibrate(Garlic.Model, obs_farm_k;\n",
    "    config=Calibrate,\n",
    "    stop=\"calendar.count\",\n",
    "    index=:DAP,\n",
    "    target=:leaf_count => :leaves_real,\n",
    "    parameters= :Phenology => (;\n",
    "        LTARa_max = (0.4, 1.8),\n",
    "        LIR_max = (0.4, 1.8),\n",
    "    ),\n",
    "    snap=f,\n",
    "    optim=(:MaxSteps => 20,),\n",
    ")"
   ]
  },
  {
   "cell_type": "code",
   "execution_count": null,
   "metadata": {},
   "outputs": [],
   "source": [
    "evaluate(Garlic.Model, obs_farm_k; \n",
    "    config = Calibrate,\n",
    "    index = :DAP => :DAP,\n",
    "    stop=\"calendar.count\",\n",
    "    snap=s -> Dates.hour(s.calendar.time') == 12,\n",
    "    target = (\n",
    "        :leaf_count => :leaves_real,\n",
    "    ),\n",
    "    metric = :rmse) |> display"
   ]
  },
  {
   "cell_type": "code",
   "execution_count": null,
   "metadata": {},
   "outputs": [],
   "source": [
    "# cali = Cropbox.deunitfy(cali)\n",
    "# r = Cropbox.deunitfy(r)\n",
    "\n",
    "# CSV.write(\"$(@__DIR__)/../data/Model_Output(Calibrate).csv\", cali)\n",
    "# CSV.write(\"$(@__DIR__)/../data/Model_Output.csv(Validate).csv\", r)"
   ]
  },
  {
   "cell_type": "code",
   "execution_count": null,
   "metadata": {},
   "outputs": [],
   "source": [
    "# manipulate(Garlic.Model, :DAP, [:leaves_real];\n",
    "#     config = Cucumber,\n",
    "#     parameters = :Phenology => (;\n",
    "#         optimal_temperature = 10:40,\n",
    "#         LTARa_max = 0.5:2.5,\n",
    "#         LIR_max = 0.5:2.5,\n",
    "#     ),\n",
    "#     stop = \"calendar.count\",\n",
    "#     kind = :line,\n",
    "# )"
   ]
  }
 ],
 "metadata": {
  "kernelspec": {
   "display_name": "Julia 1.7.3",
   "language": "julia",
   "name": "julia-1.7"
  },
  "language_info": {
   "file_extension": ".jl",
   "mimetype": "application/julia",
   "name": "julia",
   "version": "1.7.3"
  }
 },
 "nbformat": 4,
 "nbformat_minor": 4
}
